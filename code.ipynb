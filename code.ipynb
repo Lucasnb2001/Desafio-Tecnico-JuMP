{
 "cells": [
  {
   "cell_type": "code",
   "execution_count": 67,
   "metadata": {},
   "outputs": [],
   "source": [
    "#%pip install pm4py"
   ]
  },
  {
   "cell_type": "code",
   "execution_count": 68,
   "metadata": {},
   "outputs": [],
   "source": [
    "# Importa bibliotecas para visualização e mineração de dados\n",
    "import pandas as pd\n",
    "import pm4py"
   ]
  },
  {
   "cell_type": "code",
   "execution_count": 69,
   "metadata": {},
   "outputs": [
    {
     "data": {
      "text/html": [
       "<div>\n",
       "<style scoped>\n",
       "    .dataframe tbody tr th:only-of-type {\n",
       "        vertical-align: middle;\n",
       "    }\n",
       "\n",
       "    .dataframe tbody tr th {\n",
       "        vertical-align: top;\n",
       "    }\n",
       "\n",
       "    .dataframe thead th {\n",
       "        text-align: right;\n",
       "    }\n",
       "</style>\n",
       "<table border=\"1\" class=\"dataframe\">\n",
       "  <thead>\n",
       "    <tr style=\"text-align: right;\">\n",
       "      <th></th>\n",
       "      <th>NPU</th>\n",
       "      <th>processoID</th>\n",
       "      <th>activity</th>\n",
       "      <th>dataInicio</th>\n",
       "      <th>dataFinal</th>\n",
       "      <th>duration</th>\n",
       "      <th>classe</th>\n",
       "      <th>assunto</th>\n",
       "      <th>movimentoID</th>\n",
       "      <th>complemento</th>\n",
       "      <th>documento</th>\n",
       "    </tr>\n",
       "  </thead>\n",
       "  <tbody>\n",
       "    <tr>\n",
       "      <th>0</th>\n",
       "      <td>0052885-00.2022.0.00.0000</td>\n",
       "      <td>186510447</td>\n",
       "      <td>Distribuição</td>\n",
       "      <td>2022-10-24T23:46:31.769726000</td>\n",
       "      <td>2022-10-24T23:46:31.769726000</td>\n",
       "      <td>0</td>\n",
       "      <td>Procedimento do Juizado Especial Cível</td>\n",
       "      <td>Obrigação de Fazer / Não Fazer</td>\n",
       "      <td>26</td>\n",
       "      <td>sorteio</td>\n",
       "      <td>NaN</td>\n",
       "    </tr>\n",
       "    <tr>\n",
       "      <th>1</th>\n",
       "      <td>0052885-00.2022.0.00.0000</td>\n",
       "      <td>186510447</td>\n",
       "      <td>Audiência</td>\n",
       "      <td>2022-10-24T23:46:31.769726000</td>\n",
       "      <td>2022-10-24T23:46:32.593726000</td>\n",
       "      <td>0</td>\n",
       "      <td>Procedimento do Juizado Especial Cível</td>\n",
       "      <td>Obrigação de Fazer / Não Fazer</td>\n",
       "      <td>970</td>\n",
       "      <td>designada</td>\n",
       "      <td>NaN</td>\n",
       "    </tr>\n",
       "    <tr>\n",
       "      <th>2</th>\n",
       "      <td>0052885-00.2022.0.00.0000</td>\n",
       "      <td>186510447</td>\n",
       "      <td>Audiência</td>\n",
       "      <td>2022-12-14T12:58:53.104726000</td>\n",
       "      <td>2022-12-14T17:22:17.040726000</td>\n",
       "      <td>15803</td>\n",
       "      <td>Procedimento do Juizado Especial Cível</td>\n",
       "      <td>Obrigação de Fazer / Não Fazer</td>\n",
       "      <td>970</td>\n",
       "      <td>cancelada</td>\n",
       "      <td>NaN</td>\n",
       "    </tr>\n",
       "    <tr>\n",
       "      <th>3</th>\n",
       "      <td>0052885-00.2022.0.00.0000</td>\n",
       "      <td>186510447</td>\n",
       "      <td>Expedição de documento</td>\n",
       "      <td>2022-12-14T17:22:17.040726000</td>\n",
       "      <td>2022-12-14T17:23:34.820726000</td>\n",
       "      <td>77</td>\n",
       "      <td>Procedimento do Juizado Especial Cível</td>\n",
       "      <td>Obrigação de Fazer / Não Fazer</td>\n",
       "      <td>60</td>\n",
       "      <td>Certidão</td>\n",
       "      <td>CERTIDÃO</td>\n",
       "    </tr>\n",
       "    <tr>\n",
       "      <th>4</th>\n",
       "      <td>0052230-00.2022.0.00.0000</td>\n",
       "      <td>186919890</td>\n",
       "      <td>Expedição de documento</td>\n",
       "      <td>2022-10-21T17:40:19.013726000</td>\n",
       "      <td>2022-11-18T04:30:16.725726000</td>\n",
       "      <td>2371797</td>\n",
       "      <td>Procedimento do Juizado Especial Cível</td>\n",
       "      <td>Obrigação de Fazer / Não Fazer</td>\n",
       "      <td>60</td>\n",
       "      <td>Outros documentos</td>\n",
       "      <td>CERTIDÃO</td>\n",
       "    </tr>\n",
       "  </tbody>\n",
       "</table>\n",
       "</div>"
      ],
      "text/plain": [
       "                         NPU  processoID                activity  \\\n",
       "0  0052885-00.2022.0.00.0000   186510447            Distribuição   \n",
       "1  0052885-00.2022.0.00.0000   186510447               Audiência   \n",
       "2  0052885-00.2022.0.00.0000   186510447               Audiência   \n",
       "3  0052885-00.2022.0.00.0000   186510447  Expedição de documento   \n",
       "4  0052230-00.2022.0.00.0000   186919890  Expedição de documento   \n",
       "\n",
       "                      dataInicio                      dataFinal  duration  \\\n",
       "0  2022-10-24T23:46:31.769726000  2022-10-24T23:46:31.769726000         0   \n",
       "1  2022-10-24T23:46:31.769726000  2022-10-24T23:46:32.593726000         0   \n",
       "2  2022-12-14T12:58:53.104726000  2022-12-14T17:22:17.040726000     15803   \n",
       "3  2022-12-14T17:22:17.040726000  2022-12-14T17:23:34.820726000        77   \n",
       "4  2022-10-21T17:40:19.013726000  2022-11-18T04:30:16.725726000   2371797   \n",
       "\n",
       "                                   classe                         assunto  \\\n",
       "0  Procedimento do Juizado Especial Cível  Obrigação de Fazer / Não Fazer   \n",
       "1  Procedimento do Juizado Especial Cível  Obrigação de Fazer / Não Fazer   \n",
       "2  Procedimento do Juizado Especial Cível  Obrigação de Fazer / Não Fazer   \n",
       "3  Procedimento do Juizado Especial Cível  Obrigação de Fazer / Não Fazer   \n",
       "4  Procedimento do Juizado Especial Cível  Obrigação de Fazer / Não Fazer   \n",
       "\n",
       "   movimentoID        complemento documento  \n",
       "0           26            sorteio       NaN  \n",
       "1          970          designada       NaN  \n",
       "2          970          cancelada       NaN  \n",
       "3           60           Certidão  CERTIDÃO  \n",
       "4           60  Outros documentos  CERTIDÃO  "
      ]
     },
     "execution_count": 69,
     "metadata": {},
     "output_type": "execute_result"
    }
   ],
   "source": [
    "# Event log da unidade 1\n",
    "df_1 = pd.read_csv('data/movimentos_unidade_1.csv', sep=',')\n",
    "df_1.head()"
   ]
  },
  {
   "cell_type": "code",
   "execution_count": 70,
   "metadata": {},
   "outputs": [
    {
     "name": "stdout",
     "output_type": "stream",
     "text": [
      "<class 'pandas.core.frame.DataFrame'>\n",
      "RangeIndex: 243768 entries, 0 to 243767\n",
      "Data columns (total 11 columns):\n",
      " #   Column       Non-Null Count   Dtype \n",
      "---  ------       --------------   ----- \n",
      " 0   NPU          243768 non-null  object\n",
      " 1   processoID   243768 non-null  int64 \n",
      " 2   activity     243768 non-null  object\n",
      " 3   dataInicio   243768 non-null  object\n",
      " 4   dataFinal    243768 non-null  object\n",
      " 5   duration     243768 non-null  int64 \n",
      " 6   classe       243768 non-null  object\n",
      " 7   assunto      243768 non-null  object\n",
      " 8   movimentoID  243768 non-null  int64 \n",
      " 9   complemento  105276 non-null  object\n",
      " 10  documento    145980 non-null  object\n",
      "dtypes: int64(3), object(8)\n",
      "memory usage: 20.5+ MB\n"
     ]
    }
   ],
   "source": [
    "df_1.info()"
   ]
  },
  {
   "cell_type": "code",
   "execution_count": 71,
   "metadata": {},
   "outputs": [],
   "source": [
    "# Event log da unidade 2\n",
    "df_2 = pd.read_csv('data/movimentos_unidade_2.csv', sep=',')\n",
    "#df_2.head()"
   ]
  },
  {
   "cell_type": "code",
   "execution_count": 72,
   "metadata": {},
   "outputs": [
    {
     "name": "stdout",
     "output_type": "stream",
     "text": [
      "<class 'pandas.core.frame.DataFrame'>\n",
      "RangeIndex: 239001 entries, 0 to 239000\n",
      "Data columns (total 11 columns):\n",
      " #   Column       Non-Null Count   Dtype \n",
      "---  ------       --------------   ----- \n",
      " 0   NPU          239001 non-null  object\n",
      " 1   processoID   239001 non-null  int64 \n",
      " 2   activity     239001 non-null  object\n",
      " 3   dataInicio   239001 non-null  object\n",
      " 4   dataFinal    239001 non-null  object\n",
      " 5   duration     239001 non-null  int64 \n",
      " 6   classe       239001 non-null  object\n",
      " 7   assunto      239001 non-null  object\n",
      " 8   movimentoID  239001 non-null  int64 \n",
      " 9   complemento  98337 non-null   object\n",
      " 10  documento    153821 non-null  object\n",
      "dtypes: int64(3), object(8)\n",
      "memory usage: 20.1+ MB\n"
     ]
    }
   ],
   "source": [
    "df_2.info()"
   ]
  },
  {
   "cell_type": "code",
   "execution_count": 73,
   "metadata": {},
   "outputs": [
    {
     "name": "stdout",
     "output_type": "stream",
     "text": [
      "-----Movimentos-----\n",
      "UNIDADE 1:\n",
      "activity\n",
      "Expedição de documento    54370\n",
      "Petição                   49531\n",
      "Conclusão                 29960\n",
      "Audiência                 27106\n",
      "Definitivo                14066\n",
      "                          ...  \n",
      "Provimento em Parte           1\n",
      "Outras Decisões               1\n",
      "Convenção das Partes          1\n",
      "Suspensão do Processo         1\n",
      "Pena / Medida                 1\n",
      "Name: count, Length: 90, dtype: int64\n",
      "\n",
      "UNIDADE 2:\n",
      "activity\n",
      "Expedição de documento                                                  54907\n",
      "Petição                                                                 48624\n",
      "Conclusão                                                               28414\n",
      "Audiência                                                               25498\n",
      "Documento                                                               16377\n",
      "                                                                        ...  \n",
      "Por decisão judicial                                                        1\n",
      "Impedimento ou Suspeição                                                    1\n",
      "Improcedência do pedido e procedência em parte do pedido contraposto        1\n",
      "Procedência em parte do pedido e improcedência do pedido contraposto        1\n",
      "Morte ou perda da capacidade                                                1\n",
      "Name: count, Length: 101, dtype: int64\n"
     ]
    }
   ],
   "source": [
    "# Quantidade de movimentos e a sua frequência nos Processos judiciais (cases/ eventos)\n",
    "print(\"-----Movimentos-----\\nUNIDADE 1:\\n{}\".format(df_1['activity'].value_counts()))\n",
    "print(\"\\nUNIDADE 2:\\n{}\".format(df_2['activity'].value_counts()))"
   ]
  },
  {
   "cell_type": "markdown",
   "metadata": {},
   "source": [
    "É necessário, para um bom funcionamento dos algoritmos no pm4py, que exista pelo menos um atributo do tipo datetime e que o atributo identificador seja do tipo string no event log"
   ]
  },
  {
   "cell_type": "code",
   "execution_count": 74,
   "metadata": {},
   "outputs": [],
   "source": [
    "# Converter as colunas 'dataInicio' e 'dataFinal' para o tipo datetime\n",
    "df_1['dataInicio'] = pd.to_datetime(df_1['dataInicio'])\n",
    "df_1['dataFinal'] = pd.to_datetime(df_1['dataFinal'])\n",
    "\n",
    "df_2['dataInicio'] = pd.to_datetime(df_2['dataInicio'])\n",
    "df_2['dataFinal'] = pd.to_datetime(df_2['dataFinal'])"
   ]
  },
  {
   "cell_type": "code",
   "execution_count": 75,
   "metadata": {},
   "outputs": [],
   "source": [
    "# Converter a coluna 'processoID' para string\n",
    "df_1['processoID'] = df_1['processoID'].astype(str)\n",
    "df_2['processoID'] = df_2['processoID'].astype(str)"
   ]
  },
  {
   "cell_type": "code",
   "execution_count": 76,
   "metadata": {},
   "outputs": [
    {
     "name": "stdout",
     "output_type": "stream",
     "text": [
      "Número de eventos | unidade 1: 243768 | unidade 2: 239001\n",
      "Numero de casos | unidade 1: 8301 | unidade 2: 7683\n"
     ]
    }
   ],
   "source": [
    "#quantidade de registros\n",
    "num_events_1 = len(df_1)\n",
    "num_events_2 = len(df_2)\n",
    "\n",
    "#quantidade de ids unicos \n",
    "num_cases_1 = len(df_1['processoID'].unique())\n",
    "num_cases_2 = len(df_2['processoID'].unique())\n",
    "print(\"Número de eventos | unidade 1: {} | unidade 2: {}\\nNumero de casos | unidade 1: {} | unidade 2: {}\".format(num_events_1, num_events_2, num_cases_1, num_cases_2))"
   ]
  },
  {
   "cell_type": "code",
   "execution_count": 77,
   "metadata": {},
   "outputs": [
    {
     "name": "stdout",
     "output_type": "stream",
     "text": [
      "Atividades iniciais - unidade 1: {'Distribuição': 8301} | unidade 2: {'Distribuição': 7683}\n",
      "Atividades finais - unidade 1: {'Definitivo': 8301} | unidade 2: {'Definitivo': 7683}\n"
     ]
    }
   ],
   "source": [
    "#fomatando event logs para que possam ser usado na biblioteca pm4py \n",
    "event_log_1 = pm4py.format_dataframe(df_1, case_id='processoID', activity_key='activity', timestamp_key='dataFinal', timest_format= '%Y-%m-%d %H:%M:%S%z')\n",
    "#retornando atividades de início e fim\n",
    "start_activities_1 = pm4py.get_start_activities(event_log_1)\n",
    "end_activities_1 = pm4py.get_end_activities(event_log_1)\n",
    "\n",
    "event_log_2 = pm4py.format_dataframe(df_2, case_id='processoID', activity_key='activity', timestamp_key='dataFinal', timest_format= '%Y-%m-%d %H:%M:%S%z')\n",
    "start_activities_2 = pm4py.get_start_activities(event_log_2)\n",
    "end_activities_2 = pm4py.get_end_activities(event_log_2)\n",
    "print(\"Atividades iniciais - unidade 1: {} | unidade 2: {}\\nAtividades finais - unidade 1: {} | unidade 2: {}\".format(start_activities_1, start_activities_2, end_activities_1, end_activities_2))"
   ]
  },
  {
   "cell_type": "markdown",
   "metadata": {},
   "source": [
    "O formato de arquivo XES é baseado no formato XML e permite que descrevamos comportamentos de processos"
   ]
  },
  {
   "cell_type": "code",
   "execution_count": 78,
   "metadata": {},
   "outputs": [],
   "source": [
    "# Salvar o DataFrame como um arquivo .xes usando pm4py\n",
    "#pm4py.write_xes(event_log_1, 'movimentos_unidade_1.xes', case_id_key='processoID')"
   ]
  },
  {
   "cell_type": "markdown",
   "metadata": {},
   "source": [
    "movimentos como \"Publicação\", \"Decurso de Prazo\", \"Conclusão\" e \"Disponibilização no Diário da Justiça Eletrônico\" são frequentemente repetidos, e não são úteis, pois não contribuem de maneira significativa para a análise.\n"
   ]
  },
  {
   "cell_type": "code",
   "execution_count": 79,
   "metadata": {},
   "outputs": [
    {
     "name": "stdout",
     "output_type": "stream",
     "text": [
      "Processos judiciais -> Unidade 1: 243768 | Unidade 2: 239001\n",
      "\n",
      "Retirada dos movimentos de Publicação\n",
      "Processos judiciais -> Unidade 1: 243768 | Unidade 2: 239001\n",
      "Movimentos -> Unidade 1: 90 | Unidade 2: 101\n",
      "\n",
      "Retirada dos movimentos de Decurso de Prazo\n",
      "Processos judiciais -> Unidade 1: 241626 | Unidade 2: 236045\n",
      "Movimentos -> Unidade 1: 89 | Unidade 2: 100\n",
      "\n",
      "Retirada dos movimentos de Conclusão\n",
      "Processos judiciais -> Unidade 1: 211666 | Unidade 2: 207631\n",
      "Movimentos -> Unidade 1: 88 | Unidade 2: 99\n",
      "\n",
      "Retirada dos movimentos de Disponibilização no Diário da Justiça Eletrônico\n",
      "Processos judiciais -> Unidade 1: 211666 | Unidade 2: 207631\n",
      "Movimentos -> Unidade 1: 88 | Unidade 2: 99\n"
     ]
    }
   ],
   "source": [
    "def filter_and_report(event_log_1, event_log_2, values_to_filter, event_description):\n",
    "    # Filtra os logs com base nos valores especificados\n",
    "    filtered_event_log_1 = pm4py.filter_event_attribute_values(log=event_log_1, attribute_key=\"concept:name\", level=\"event\", values=values_to_filter, retain=False)\n",
    "    filtered_event_log_2 = pm4py.filter_event_attribute_values(log=event_log_2, attribute_key=\"concept:name\", level=\"event\", values=values_to_filter, retain=False)\n",
    "    \n",
    "    # Imprime o relatório\n",
    "    print(f\"\\nRetirada dos movimentos de {event_description}\")\n",
    "    print(f\"Processos judiciais -> Unidade 1: {len(filtered_event_log_1)} | Unidade 2: {len(filtered_event_log_2)}\")\n",
    "    print(f\"Movimentos -> Unidade 1: {len(filtered_event_log_1['activity'].unique())} | Unidade 2: {len(filtered_event_log_2['activity'].unique())}\")\n",
    "\n",
    "    return filtered_event_log_1, filtered_event_log_2\n",
    "\n",
    "# Lista de valores e descrições\n",
    "filter_events = [\n",
    "    ({\"Publicação\"}, \"Publicação\"),\n",
    "    ({\"Decurso de Prazo\"}, \"Decurso de Prazo\"),\n",
    "    ({\"Conclusão\"}, \"Conclusão\"),\n",
    "    ({\"Disponibilização no Diário da Justiça Eletrônico\"}, \"Disponibilização no Diário da Justiça Eletrônico\")\n",
    "]\n",
    "\n",
    "#Tamanho atual dos event logs\n",
    "print(\"Processos judiciais -> Unidade 1: {} | Unidade 2: {}\".format(len(event_log_1) ,len(event_log_2)))\n",
    "\n",
    "# Aplicação da função para cada evento\n",
    "for values, description in filter_events:\n",
    "    event_log_1, event_log_2 = filter_and_report(event_log_1, event_log_2, values, description)"
   ]
  },
  {
   "cell_type": "markdown",
   "metadata": {},
   "source": [
    "Quantidade de processos documentados e principais tipos "
   ]
  },
  {
   "cell_type": "code",
   "execution_count": 119,
   "metadata": {},
   "outputs": [],
   "source": [
    "import numpy as np\n",
    "\n",
    "# Cria uma lista com os possíveis valores do atributo documento  \n",
    "doc_arrray_1 = event_log_1['documento'].unique()\n",
    "doc_arrray_2 = event_log_2['documento'].unique()\n",
    "# Retira o valor NaN da lista\n",
    "doc_arrray_1 = np.delete(doc_arrray_1, 0)\n",
    "doc_arrray_2 = np.delete(doc_arrray_1, 0)\n",
    "#doc_arrray"
   ]
  },
  {
   "cell_type": "code",
   "execution_count": 120,
   "metadata": {},
   "outputs": [],
   "source": [
    "# Filtra o event log para que retorne somente os eventos com o atributo documento preenchido\n",
    "doc_event_log_1 = pm4py.filter_event_attribute_values(log=event_log_1, attribute_key=\"documento\", level=\"event\", values=doc_arrray_1, retain=True)\n",
    "doc_event_log_2 = pm4py.filter_event_attribute_values(log=event_log_1, attribute_key=\"documento\", level=\"event\", values=doc_arrray_2, retain=True)\n"
   ]
  },
  {
   "cell_type": "code",
   "execution_count": 123,
   "metadata": {},
   "outputs": [
    {
     "name": "stdout",
     "output_type": "stream",
     "text": [
      "Quantidade de processos com documentação específica - Unidade 1: 145978 | Unidade 2: 135841\n"
     ]
    }
   ],
   "source": [
    "print(f\"Quantidade de processos com documentação específica - Unidade 1: {len(doc_event_log_1)} | Unidade 2: {len(doc_event_log_2)}\")"
   ]
  },
  {
   "cell_type": "code",
   "execution_count": 124,
   "metadata": {},
   "outputs": [
    {
     "name": "stdout",
     "output_type": "stream",
     "text": [
      "UINDADE 1\n",
      "activity\n",
      "Expedição de documento                                 51229\n",
      "Petição                                                47675\n",
      "Mero expediente                                        10646\n",
      "Documento                                               8967\n",
      "Audiência                                               8152\n",
      "                                                       ...  \n",
      "Convenção das Partes                                       1\n",
      "Renúncia ao direito pelo autor                             1\n",
      "Conhecimento em Parte e Não-Provimento ou Denegação        1\n",
      "Suscitação de Conflito de Competência                      1\n",
      "Pena / Medida                                              1\n",
      "Name: count, Length: 65, dtype: int64\n",
      "\n",
      "UINDADE 2\n",
      "activity\n",
      "Petição                                                47675\n",
      "Expedição de documento                                 41098\n",
      "Mero expediente                                        10646\n",
      "Documento                                               8961\n",
      "Audiência                                               8152\n",
      "                                                       ...  \n",
      "Convenção das Partes                                       1\n",
      "Renúncia ao direito pelo autor                             1\n",
      "Conhecimento em Parte e Não-Provimento ou Denegação        1\n",
      "Suscitação de Conflito de Competência                      1\n",
      "Pena / Medida                                              1\n",
      "Name: count, Length: 65, dtype: int64\n"
     ]
    }
   ],
   "source": [
    "# Tipos de processos documentados mais frequêntes \n",
    "print(\"UINDADE 1\")\n",
    "print(doc_event_log_1['activity'].value_counts())\n",
    "print(\"\\nUINDADE 2\")\n",
    "print(doc_event_log_2['activity'].value_counts())"
   ]
  }
 ],
 "metadata": {
  "kernelspec": {
   "display_name": "Python 3",
   "language": "python",
   "name": "python3"
  },
  "language_info": {
   "codemirror_mode": {
    "name": "ipython",
    "version": 3
   },
   "file_extension": ".py",
   "mimetype": "text/x-python",
   "name": "python",
   "nbconvert_exporter": "python",
   "pygments_lexer": "ipython3",
   "version": "3.10.4"
  }
 },
 "nbformat": 4,
 "nbformat_minor": 2
}
